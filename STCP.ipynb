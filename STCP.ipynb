{
  "nbformat": 4,
  "nbformat_minor": 0,
  "metadata": {
    "colab": {
      "provenance": []
    },
    "kernelspec": {
      "name": "python3",
      "display_name": "Python 3"
    },
    "language_info": {
      "name": "python"
    }
  },
  "cells": [
    {
      "cell_type": "code",
      "source": [
        "!pip install dv\n",
        "import cv2\n",
        "import glob\n",
        "import os\n",
        "from tqdm import tqdm\n",
        "import numpy as np\n",
        "import dv\n",
        "import copy\n",
        "import time"
      ],
      "metadata": {
        "id": "2db3meBFukRu",
        "colab": {
          "base_uri": "https://localhost:8080/"
        },
        "outputId": "682771ac-1b91-4126-801c-b439376d063c"
      },
      "execution_count": null,
      "outputs": [
        {
          "output_type": "stream",
          "name": "stdout",
          "text": [
            "Requirement already satisfied: dv in /usr/local/lib/python3.10/dist-packages (1.0.12)\n",
            "Requirement already satisfied: flatbuffers in /usr/local/lib/python3.10/dist-packages (from dv) (23.5.26)\n",
            "Requirement already satisfied: numpy in /usr/local/lib/python3.10/dist-packages (from dv) (1.23.5)\n",
            "Requirement already satisfied: lz4 in /usr/local/lib/python3.10/dist-packages (from dv) (4.3.2)\n",
            "Requirement already satisfied: zstd in /usr/local/lib/python3.10/dist-packages (from dv) (1.5.5.1)\n",
            "Requirement already satisfied: deprecated in /usr/local/lib/python3.10/dist-packages (from dv) (1.2.14)\n",
            "Requirement already satisfied: wrapt<2,>=1.10 in /usr/local/lib/python3.10/dist-packages (from deprecated->dv) (1.14.1)\n"
          ]
        }
      ]
    },
    {
      "cell_type": "code",
      "source": [
        "from google.colab import drive\n",
        "drive.mount('/content/drive')"
      ],
      "metadata": {
        "colab": {
          "base_uri": "https://localhost:8080/"
        },
        "id": "33wXv7Xysa4J",
        "outputId": "82860d25-7414-4eef-99dd-bcde48aca32d"
      },
      "execution_count": null,
      "outputs": [
        {
          "output_type": "stream",
          "name": "stdout",
          "text": [
            "Mounted at /content/drive\n"
          ]
        }
      ]
    },
    {
      "cell_type": "code",
      "source": [
        "\n",
        "EVENT_PATH = \"/content/drive/MyDrive/driving_346x260_noise_shot_dark_5p3Hz.txt\"\n",
        "\n",
        "OUTPUT = \"/content/\"\n",
        "\n",
        "# Filtering parameters\n",
        "REFRACTORY_PERIOD = 1000    # in us\n",
        "NN_WINDOW = 8000           # in us\n",
        "\n",
        "# DAVIS Camera's Dimension\n",
        "HEIGHT = 260\n",
        "WIDTH = 346\n",
        "\n",
        "class Events(object):\n",
        "    def __init__(self, num_events: int, width: int, height: int) -> np.ndarray:\n",
        "        # events contains the following index:\n",
        "        # t: the timestamp of the event.\n",
        "        # x: the x position of the event.\n",
        "        # y: the y position of the event.\n",
        "        # p: the polarity of the event.\n",
        "        self.events = np.zeros((num_events), dtype=[(\"t\", np.uint64), (\"x\", np.uint16), (\"y\", np.uint16), (\"p\", np.bool_), (\"s\", np.bool_)])\n",
        "        self.width = width\n",
        "        self.height = height\n",
        "        self.num_events = num_events\n",
        "\n",
        "# Read event data from file\n",
        "def process_text_file(filename: str) -> Events:\n",
        "    with open(filename, 'r',buffering=4000000) as f:\n",
        "        num_events = 0\n",
        "        for _ in f:\n",
        "            num_events += 1\n",
        "\n",
        "\n",
        "    print(\"!!!!!\",num_events)\n",
        "    events = Events(num_events, WIDTH, HEIGHT)\n",
        "\n",
        "    with open(filename, 'r',buffering=4000000) as f:\n",
        "        for i, line in enumerate(tqdm(f)):\n",
        "            event = line.split('\\t')\n",
        "            if len(event) != 5: print(\"!!!!!!!!!\")\n",
        "            assert len(event) == 5\n",
        "            events.events[i][\"x\"], events.events[i][\"y\"],events.events[i][\"t\"], =  int(event[0])-1, int(event[1])-1,int(event[3])   #*1e6\n",
        "            events.events[i][\"p\"] = True if int(event[2]) == 1 else False\n",
        "            events.events[i][\"s\"] = int(event[4])\n",
        "            #if(i==100): break\n",
        "\n",
        "    return events\n",
        "\n",
        "\n",
        "\n",
        "#  Spatiotemporal Correlation Filtering (STCF)\n",
        "def Spatiotemporal_Correlation_Filter(event_array: Events, time_window: int=200, k: int=1):\n",
        "    TP,TN,FP,FN=0,0,0,0\n",
        "    max_x, max_y = event_array.width - 1, event_array.height - 1\n",
        "    t0 = np.ones((event_array.height, event_array.width)) - time_window - 1\n",
        "    x_prev, y_prev, p_prev= 0, 0, 0,\n",
        "    valid_indices = np.ones(event_array.num_events, dtype=np.bool_)\n",
        "\n",
        "    for i, e in tqdm(enumerate(event_array.events)): #tqdm: process bar;    // i is the index, e are thhe content(will go through each)\n",
        "        count=0\n",
        "        ts, x, y, p = e[\"t\"], e[\"x\"], e[\"y\"], e[\"p\"]\n",
        "\n",
        "        if x_prev != x or y_prev != y or p_prev != p: #if install the first event, then not go into if () condition\n",
        "            t0[y][x] = -time_window\n",
        "            min_x_sub = max(0, x-1)\n",
        "            max_x_sub = min(max_x, x+1)\n",
        "            min_y_sub = max(0, y-1)\n",
        "            max_y_sub = min(max_y, y+1)\n",
        "\n",
        "            t0_temp = t0[min_y_sub:(max_y_sub+1), min_x_sub:(max_x_sub + 1)]\n",
        "            for c in (ts-t0_temp.reshape(-1,1)):\n",
        "                if c<= time_window: count+=1\n",
        "\n",
        "\n",
        "            if count< k:\n",
        "                valid_indices[i] = 0 #indixcate each event to tell nosie or signal\n",
        "            if valid_indices[i]==1 and e[\"s\"]==1: TP+=1\n",
        "            if valid_indices[i]==0 and e[\"s\"]==0: TN+=1\n",
        "            if valid_indices[i]==1 and e[\"s\"]==0: FP+=1\n",
        "            if valid_indices[i]==0 and e[\"s\"]==1: FN+=1\n",
        "\n",
        "        t0[y][x], x_prev, y_prev, p_prev = ts, x, y, p #always update the timestamp\n",
        "    print()\n",
        "    print(\"TP\",TP)\n",
        "    print(\"TN\",TN)\n",
        "    print(\"FP\",FP)\n",
        "    print(\"FN\",FN)\n",
        "    with open('/content/drive/MyDrive/myfile.txt', 'a') as f:\n",
        "        #f.writelines('!!k=0'+str(k)+'\\n')\n",
        "        s=str(TP)+'\\t'+str(TN)+'\\t'+str(FP)+'\\t'+str(FN)+'\\n'\n",
        "        f.writelines(s)\n",
        "\n",
        "    return event_array.events[valid_indices], np.count_nonzero(valid_indices == True)\n",
        "\n",
        "\n",
        "\n",
        "if __name__ == \"__main__\":\n",
        "    \"\"\"\n",
        "        Generate Video from events\n",
        "    \"\"\"\n",
        "    current_events = process_text_file(EVENT_PATH)\n",
        "    deepcopy = copy.deepcopy(current_events)\n",
        "    for x in range(1):\n",
        "      k=x+5\n",
        "      print(\"!!!!! k=\",k)\n",
        "      with open('/content/drive/MyDrive/myfile.txt', 'a') as f:\n",
        "        f.writelines('!!k=0'+str(k)+'\\n')\n",
        "\n",
        "    print()\n",
        "    current_events = copy.deepcopy(deepcopy)\n",
        "    print(2000)\n",
        "    current_events.events, current_events.num_events = Spatiotemporal_Correlation_Filter(current_events, 2000)\n",
        "\n",
        "    print()\n",
        "    current_events = copy.deepcopy(deepcopy)\n",
        "    print(3000)\n",
        "    current_events.events, current_events.num_events = Spatiotemporal_Correlation_Filter(current_events, 3000)\n",
        "\n",
        "    print()\n",
        "    current_events = copy.deepcopy(deepcopy)\n",
        "    print(4000)\n",
        "    current_events.events, current_events.num_events = Spatiotemporal_Correlation_Filter(current_events, 4000)\n",
        "\n",
        "    print()\n",
        "    current_events = copy.deepcopy(deepcopy)\n",
        "    print(5000)\n",
        "    current_events.events, current_events.num_events = Spatiotemporal_Correlation_Filter(current_events, 5000)\n",
        "\n",
        "    print()\n",
        "    current_events = copy.deepcopy(deepcopy)\n",
        "    print(6000)\n",
        "    current_events.events, current_events.num_events = Spatiotemporal_Correlation_Filter(current_events, 6000)\n",
        "\n",
        "    print()\n",
        "    current_events = copy.deepcopy(deepcopy)\n",
        "    print(7000)\n",
        "    current_events.events, current_events.num_events = Spatiotemporal_Correlation_Filter(current_events, 7000)\n",
        "\n",
        "    print()\n",
        "    current_events = copy.deepcopy(deepcopy)\n",
        "    print(8000)\n",
        "    current_events.events, current_events.num_events = Spatiotemporal_Correlation_Filter(current_events, 8000)\n",
        "\n",
        "    print()\n",
        "    current_events = copy.deepcopy(deepcopy)\n",
        "    print(9000)\n",
        "    current_events.events, current_events.num_events = Spatiotemporal_Correlation_Filter(current_events, 9000)\n",
        "\n",
        "    print()\n",
        "    current_events = copy.deepcopy(deepcopy)\n",
        "    print(10000)\n",
        "    current_events.events, current_events.num_events = Spatiotemporal_Correlation_Filter(current_events, 10000)\n",
        "\n",
        "\n",
        "    print()\n",
        "    current_events = copy.deepcopy(deepcopy)\n",
        "    print(12000)\n",
        "    current_events.events, current_events.num_events = Spatiotemporal_Correlation_Filter(current_events, 12000)\n",
        "\n",
        "    print()\n",
        "    current_events = copy.deepcopy(deepcopy)\n",
        "    print(13000)\n",
        "    current_events.events, current_events.num_events = Spatiotemporal_Correlation_Filter(current_events, 13000)\n",
        "\n",
        "    print()\n",
        "    current_events = copy.deepcopy(deepcopy)\n",
        "    print(14000)\n",
        "    current_events.events, current_events.num_events = Spatiotemporal_Correlation_Filter(current_events, 14000)\n",
        "\n",
        "    print()\n",
        "    current_events = copy.deepcopy(deepcopy)\n",
        "    print(15000)\n",
        "    current_events.events, current_events.num_events = Spatiotemporal_Correlation_Filter(current_events, 15000)\n",
        "\n",
        "    print()\n",
        "    current_events = copy.deepcopy(deepcopy)\n",
        "    print(16000)\n",
        "    current_events.events, current_events.num_events = Spatiotemporal_Correlation_Filter(current_events, 16000)\n",
        "\n",
        "    print()\n",
        "    current_events = copy.deepcopy(deepcopy)\n",
        "    print(17000)\n",
        "    current_events.events, current_events.num_events = Spatiotemporal_Correlation_Filter(current_events, 17000)\n",
        "\n",
        "    print()\n",
        "    current_events = copy.deepcopy(deepcopy)\n",
        "    print(18000)\n",
        "    current_events.events, current_events.num_events = Spatiotemporal_Correlation_Filter(current_events, 18000)\n",
        "\n",
        "    print()\n",
        "    current_events = copy.deepcopy(deepcopy)\n",
        "    print(19000)\n",
        "    current_events.events, current_events.num_events = Spatiotemporal_Correlation_Filter(current_events, 19000)\n",
        "\n",
        "    print()\n",
        "    current_events = copy.deepcopy(deepcopy)\n",
        "    print(20000)\n",
        "    current_events.events, current_events.num_events = Spatiotemporal_Correlation_Filter(current_events, 20000)\n",
        "\n",
        "    print()\n",
        "    current_events = copy.deepcopy(deepcopy)\n",
        "    print(22000)\n",
        "    current_events.events, current_events.num_events = Spatiotemporal_Correlation_Filter(current_events, 22000)\n",
        "\n",
        "    print()\n",
        "    current_events = copy.deepcopy(deepcopy)\n",
        "    print(23000)\n",
        "    current_events.events, current_events.num_events = Spatiotemporal_Correlation_Filter(current_events, 23000)\n",
        "\n",
        "    print()\n",
        "    current_events = copy.deepcopy(deepcopy)\n",
        "    print(24000)\n",
        "    current_events.events, current_events.num_events = Spatiotemporal_Correlation_Filter(current_events, 24000)\n",
        "\n",
        "    print()\n",
        "    current_events = copy.deepcopy(deepcopy)\n",
        "    print(25000)\n",
        "    current_events.events, current_events.num_events = Spatiotemporal_Correlation_Filter(current_events, 25000)\n",
        "\n",
        "\n",
        "    print()\n",
        "    current_events = copy.deepcopy(deepcopy)\n",
        "    print(26000)\n",
        "    current_events.events, current_events.num_events = Spatiotemporal_Correlation_Filter(current_events, 26000)\n",
        "\n",
        "\n",
        "    print()\n",
        "    current_events = copy.deepcopy(deepcopy)\n",
        "    print(27000)\n",
        "    current_events.events, current_events.num_events = Spatiotemporal_Correlation_Filter(current_events, 27000)\n",
        "\n",
        "\n",
        "    print()\n",
        "    current_events = copy.deepcopy(deepcopy)\n",
        "    print(28000)\n",
        "    current_events.events, current_events.num_events = Spatiotemporal_Correlation_Filter(current_events, 28000)\n",
        "\n",
        "    print()\n",
        "    current_events = copy.deepcopy(deepcopy)\n",
        "    print(29000)\n",
        "    current_events.events, current_events.num_events = Spatiotemporal_Correlation_Filter(current_events, 29000)\n",
        "\n",
        "    print()\n",
        "    current_events = copy.deepcopy(deepcopy)\n",
        "    print(30000)\n",
        "    current_events.events, current_events.num_events =Spatiotemporal_Correlation_Filter(current_events, 30000)\n",
        "\n",
        "    print()\n",
        "    current_events = copy.deepcopy(deepcopy)\n",
        "    print(32000)\n",
        "    current_events.events, current_events.num_events = Spatiotemporal_Correlation_Filter(current_events, 32000,k)\n",
        "\n",
        "    print()\n",
        "    current_events = copy.deepcopy(deepcopy)\n",
        "    print(33000)\n",
        "    current_events.events, current_events.num_events = Spatiotemporal_Correlation_Filter(current_events, 33000,k)\n",
        "\n",
        "    print()\n",
        "    current_events = copy.deepcopy(deepcopy)\n",
        "    print(34000)\n",
        "    current_events.events, current_events.num_events = Spatiotemporal_Correlation_Filter(current_events, 34000,k)\n",
        "\n",
        "    print()\n",
        "    current_events = copy.deepcopy(deepcopy)\n",
        "    print(35000)\n",
        "    current_events.events, current_events.num_events = Spatiotemporal_Correlation_Filter(current_events, 35000,k)\n",
        "\n",
        "    print()\n",
        "    current_events = copy.deepcopy(deepcopy)\n",
        "    print(36000)\n",
        "    current_events.events, current_events.num_events = Spatiotemporal_Correlation_Filter(current_events, 36000,k)\n",
        "\n",
        "    print()\n",
        "    current_events = copy.deepcopy(deepcopy)\n",
        "    print(37000)\n",
        "    current_events.events, current_events.num_events = Spatiotemporal_Correlation_Filter(current_events, 37000,k)\n",
        "\n",
        "    print()\n",
        "    current_events = copy.deepcopy(deepcopy)\n",
        "    print(38000)\n",
        "    current_events.events, current_events.num_events = Spatiotemporal_Correlation_Filter(current_events, 38000,k)\n",
        "\n",
        "    print()\n",
        "    current_events = copy.deepcopy(deepcopy)\n",
        "    print(39000)\n",
        "    current_events.events, current_events.num_events = Spatiotemporal_Correlation_Filter(current_events, 39000,k)\n",
        "\n",
        "    print()\n",
        "    current_events = copy.deepcopy(deepcopy)\n",
        "    print(40000)\n",
        "    current_events.events, current_events.num_events = Spatiotemporal_Correlation_Filter(current_events, 40000,k)\n",
        "\n",
        "\n"
      ],
      "metadata": {
        "id": "uE6ffoKKumPJ",
        "colab": {
          "base_uri": "https://localhost:8080/"
        },
        "outputId": "1d007080-1930-48c3-fea3-8a3583e65f7b"
      },
      "execution_count": null,
      "outputs": [
        {
          "metadata": {
            "tags": null
          },
          "name": "stdout",
          "output_type": "stream",
          "text": [
            "!!!!! 6677980\n"
          ]
        },
        {
          "metadata": {
            "tags": null
          },
          "name": "stderr",
          "output_type": "stream",
          "text": [
            "6677980it [00:47, 140305.09it/s]\n"
          ]
        },
        {
          "metadata": {
            "tags": null
          },
          "name": "stdout",
          "output_type": "stream",
          "text": [
            "!!!!! k= 5\n",
            "\n",
            "2000\n"
          ]
        },
        {
          "metadata": {
            "tags": null
          },
          "name": "stderr",
          "output_type": "stream",
          "text": [
            "6677980it [08:36, 12936.00it/s]\n"
          ]
        },
        {
          "metadata": {
            "tags": null
          },
          "name": "stdout",
          "output_type": "stream",
          "text": [
            "\n",
            "TP 2259947\n",
            "TN 2449721\n",
            "FP 472660\n",
            "FN 1495634\n",
            "\n",
            "3000\n"
          ]
        },
        {
          "metadata": {
            "tags": null
          },
          "name": "stderr",
          "output_type": "stream",
          "text": [
            "6677980it [08:37, 12894.76it/s]\n"
          ]
        },
        {
          "metadata": {
            "tags": null
          },
          "name": "stdout",
          "output_type": "stream",
          "text": [
            "\n",
            "TP 2649564\n",
            "TN 2273499\n",
            "FP 648882\n",
            "FN 1106017\n",
            "\n",
            "4000\n"
          ]
        },
        {
          "metadata": {
            "tags": null
          },
          "name": "stderr",
          "output_type": "stream",
          "text": [
            "6677980it [08:42, 12776.87it/s]\n"
          ]
        },
        {
          "metadata": {
            "tags": null
          },
          "name": "stdout",
          "output_type": "stream",
          "text": [
            "\n",
            "TP 2899986\n",
            "TN 2121379\n",
            "FP 801002\n",
            "FN 855595\n",
            "\n",
            "5000\n"
          ]
        },
        {
          "metadata": {
            "tags": null
          },
          "name": "stderr",
          "output_type": "stream",
          "text": [
            "6677980it [08:15, 13481.40it/s]\n"
          ]
        },
        {
          "metadata": {
            "tags": null
          },
          "name": "stdout",
          "output_type": "stream",
          "text": [
            "\n",
            "TP 3071911\n",
            "TN 1987733\n",
            "FP 934648\n",
            "FN 683670\n",
            "\n",
            "6000\n"
          ]
        },
        {
          "metadata": {
            "tags": null
          },
          "name": "stderr",
          "output_type": "stream",
          "text": [
            "6677980it [08:12, 13561.44it/s]\n"
          ]
        },
        {
          "metadata": {
            "tags": null
          },
          "name": "stdout",
          "output_type": "stream",
          "text": [
            "\n",
            "TP 3197019\n",
            "TN 1868130\n",
            "FP 1054251\n",
            "FN 558562\n",
            "\n",
            "7000\n"
          ]
        },
        {
          "metadata": {
            "tags": null
          },
          "name": "stderr",
          "output_type": "stream",
          "text": [
            "6677980it [08:18, 13403.81it/s]\n"
          ]
        },
        {
          "metadata": {
            "tags": null
          },
          "name": "stdout",
          "output_type": "stream",
          "text": [
            "\n",
            "TP 3290274\n",
            "TN 1759928\n",
            "FP 1162453\n",
            "FN 465307\n",
            "\n",
            "8000\n"
          ]
        },
        {
          "metadata": {
            "tags": null
          },
          "name": "stderr",
          "output_type": "stream",
          "text": [
            "6677980it [08:14, 13512.00it/s]\n"
          ]
        },
        {
          "metadata": {
            "tags": null
          },
          "name": "stdout",
          "output_type": "stream",
          "text": [
            "\n",
            "TP 3361815\n",
            "TN 1661781\n",
            "FP 1260600\n",
            "FN 393766\n",
            "\n",
            "9000\n"
          ]
        },
        {
          "metadata": {
            "tags": null
          },
          "name": "stderr",
          "output_type": "stream",
          "text": [
            "6677980it [08:16, 13439.62it/s]\n"
          ]
        },
        {
          "metadata": {
            "tags": null
          },
          "name": "stdout",
          "output_type": "stream",
          "text": [
            "\n",
            "TP 3417816\n",
            "TN 1571867\n",
            "FP 1350514\n",
            "FN 337765\n",
            "\n",
            "10000\n"
          ]
        },
        {
          "metadata": {
            "tags": null
          },
          "name": "stderr",
          "output_type": "stream",
          "text": [
            "6677980it [08:14, 13517.46it/s]\n"
          ]
        },
        {
          "metadata": {
            "tags": null
          },
          "name": "stdout",
          "output_type": "stream",
          "text": [
            "\n",
            "TP 3462989\n",
            "TN 1488690\n",
            "FP 1433691\n",
            "FN 292592\n",
            "\n",
            "12000\n"
          ]
        },
        {
          "metadata": {
            "tags": null
          },
          "name": "stderr",
          "output_type": "stream",
          "text": [
            "6677980it [08:12, 13569.23it/s]\n"
          ]
        },
        {
          "metadata": {
            "tags": null
          },
          "name": "stdout",
          "output_type": "stream",
          "text": [
            "\n",
            "TP 3529929\n",
            "TN 1339888\n",
            "FP 1582493\n",
            "FN 225652\n",
            "\n",
            "13000\n"
          ]
        },
        {
          "metadata": {
            "tags": null
          },
          "name": "stderr",
          "output_type": "stream",
          "text": [
            "6677980it [08:11, 13595.35it/s]\n"
          ]
        },
        {
          "metadata": {
            "tags": null
          },
          "name": "stdout",
          "output_type": "stream",
          "text": [
            "\n",
            "TP 3555485\n",
            "TN 1273421\n",
            "FP 1648960\n",
            "FN 200096\n",
            "\n",
            "14000\n"
          ]
        },
        {
          "metadata": {
            "tags": null
          },
          "name": "stderr",
          "output_type": "stream",
          "text": [
            "6677980it [08:16, 13462.93it/s]\n"
          ]
        },
        {
          "metadata": {
            "tags": null
          },
          "name": "stdout",
          "output_type": "stream",
          "text": [
            "\n",
            "TP 3576698\n",
            "TN 1210932\n",
            "FP 1711449\n",
            "FN 178883\n",
            "\n",
            "15000\n"
          ]
        },
        {
          "metadata": {
            "tags": null
          },
          "name": "stderr",
          "output_type": "stream",
          "text": [
            "6677980it [08:22, 13287.20it/s]\n"
          ]
        },
        {
          "metadata": {
            "tags": null
          },
          "name": "stdout",
          "output_type": "stream",
          "text": [
            "\n",
            "TP 3595112\n",
            "TN 1152568\n",
            "FP 1769813\n",
            "FN 160469\n",
            "\n",
            "16000\n"
          ]
        },
        {
          "metadata": {
            "tags": null
          },
          "name": "stderr",
          "output_type": "stream",
          "text": [
            "6677980it [08:17, 13423.36it/s]\n"
          ]
        },
        {
          "metadata": {
            "tags": null
          },
          "name": "stdout",
          "output_type": "stream",
          "text": [
            "\n",
            "TP 3610926\n",
            "TN 1097947\n",
            "FP 1824434\n",
            "FN 144655\n",
            "\n",
            "17000\n"
          ]
        },
        {
          "metadata": {
            "tags": null
          },
          "name": "stderr",
          "output_type": "stream",
          "text": [
            "6677980it [08:18, 13401.61it/s]\n"
          ]
        },
        {
          "metadata": {
            "tags": null
          },
          "name": "stdout",
          "output_type": "stream",
          "text": [
            "\n",
            "TP 3624617\n",
            "TN 1046306\n",
            "FP 1876075\n",
            "FN 130964\n",
            "\n",
            "18000\n"
          ]
        },
        {
          "metadata": {
            "tags": null
          },
          "name": "stderr",
          "output_type": "stream",
          "text": [
            "6677980it [08:12, 13559.96it/s]\n"
          ]
        },
        {
          "metadata": {
            "tags": null
          },
          "name": "stdout",
          "output_type": "stream",
          "text": [
            "\n",
            "TP 3636734\n",
            "TN 998027\n",
            "FP 1924354\n",
            "FN 118847\n",
            "\n",
            "19000\n"
          ]
        },
        {
          "metadata": {
            "tags": null
          },
          "name": "stderr",
          "output_type": "stream",
          "text": [
            "6677980it [08:13, 13527.93it/s]\n"
          ]
        },
        {
          "metadata": {
            "tags": null
          },
          "name": "stdout",
          "output_type": "stream",
          "text": [
            "\n",
            "TP 3647112\n",
            "TN 952067\n",
            "FP 1970314\n",
            "FN 108469\n",
            "\n",
            "20000\n"
          ]
        },
        {
          "metadata": {
            "tags": null
          },
          "name": "stderr",
          "output_type": "stream",
          "text": [
            "6677980it [08:20, 13339.58it/s]\n"
          ]
        },
        {
          "metadata": {
            "tags": null
          },
          "name": "stdout",
          "output_type": "stream",
          "text": [
            "\n",
            "TP 3656599\n",
            "TN 909122\n",
            "FP 2013259\n",
            "FN 98982\n",
            "\n",
            "22000\n"
          ]
        },
        {
          "metadata": {
            "tags": null
          },
          "name": "stderr",
          "output_type": "stream",
          "text": [
            "6677980it [08:19, 13382.72it/s]\n"
          ]
        },
        {
          "metadata": {
            "tags": null
          },
          "name": "stdout",
          "output_type": "stream",
          "text": [
            "\n",
            "TP 3672067\n",
            "TN 830193\n",
            "FP 2092188\n",
            "FN 83514\n",
            "\n",
            "23000\n"
          ]
        },
        {
          "metadata": {
            "tags": null
          },
          "name": "stderr",
          "output_type": "stream",
          "text": [
            "6677980it [08:20, 13341.02it/s]\n"
          ]
        },
        {
          "metadata": {
            "tags": null
          },
          "name": "stdout",
          "output_type": "stream",
          "text": [
            "\n",
            "TP 3678631\n",
            "TN 794172\n",
            "FP 2128209\n",
            "FN 76950\n",
            "\n",
            "24000\n"
          ]
        },
        {
          "metadata": {
            "tags": null
          },
          "name": "stderr",
          "output_type": "stream",
          "text": [
            "6677980it [08:14, 13499.32it/s]\n"
          ]
        },
        {
          "metadata": {
            "tags": null
          },
          "name": "stdout",
          "output_type": "stream",
          "text": [
            "\n",
            "TP 3684522\n",
            "TN 759636\n",
            "FP 2162745\n",
            "FN 71059\n",
            "\n",
            "25000\n"
          ]
        },
        {
          "metadata": {
            "tags": null
          },
          "name": "stderr",
          "output_type": "stream",
          "text": [
            "6677980it [08:15, 13485.51it/s]\n"
          ]
        },
        {
          "metadata": {
            "tags": null
          },
          "name": "stdout",
          "output_type": "stream",
          "text": [
            "\n",
            "TP 3689847\n",
            "TN 727442\n",
            "FP 2194939\n",
            "FN 65734\n",
            "\n",
            "26000\n"
          ]
        },
        {
          "metadata": {
            "tags": null
          },
          "name": "stderr",
          "output_type": "stream",
          "text": [
            "6677980it [08:15, 13464.62it/s]\n"
          ]
        },
        {
          "metadata": {
            "tags": null
          },
          "name": "stdout",
          "output_type": "stream",
          "text": [
            "\n",
            "TP 3694627\n",
            "TN 696683\n",
            "FP 2225698\n",
            "FN 60954\n",
            "\n",
            "27000\n"
          ]
        },
        {
          "metadata": {
            "tags": null
          },
          "name": "stderr",
          "output_type": "stream",
          "text": [
            "6677980it [08:20, 13355.30it/s]\n"
          ]
        },
        {
          "metadata": {
            "tags": null
          },
          "name": "stdout",
          "output_type": "stream",
          "text": [
            "\n",
            "TP 3698843\n",
            "TN 667677\n",
            "FP 2254704\n",
            "FN 56738\n",
            "\n",
            "28000\n"
          ]
        },
        {
          "metadata": {
            "tags": null
          },
          "name": "stderr",
          "output_type": "stream",
          "text": [
            "6677980it [08:17, 13416.31it/s]\n"
          ]
        },
        {
          "metadata": {
            "tags": null
          },
          "name": "stdout",
          "output_type": "stream",
          "text": [
            "\n",
            "TP 3702820\n",
            "TN 639967\n",
            "FP 2282414\n",
            "FN 52761\n",
            "\n",
            "29000\n"
          ]
        },
        {
          "metadata": {
            "tags": null
          },
          "name": "stderr",
          "output_type": "stream",
          "text": [
            "6677980it [08:17, 13420.64it/s]\n"
          ]
        },
        {
          "metadata": {
            "tags": null
          },
          "name": "stdout",
          "output_type": "stream",
          "text": [
            "\n",
            "TP 3706412\n",
            "TN 614027\n",
            "FP 2308354\n",
            "FN 49169\n",
            "\n",
            "30000\n"
          ]
        },
        {
          "metadata": {
            "tags": null
          },
          "name": "stderr",
          "output_type": "stream",
          "text": [
            "6677980it [08:19, 13361.18it/s]\n"
          ]
        },
        {
          "metadata": {
            "tags": null
          },
          "name": "stdout",
          "output_type": "stream",
          "text": [
            "\n",
            "TP 3709653\n",
            "TN 589338\n",
            "FP 2333043\n",
            "FN 45928\n",
            "\n",
            "32000\n"
          ]
        },
        {
          "metadata": {
            "tags": null
          },
          "name": "stderr",
          "output_type": "stream",
          "text": [
            "6677980it [08:21, 13315.81it/s]\n"
          ]
        },
        {
          "metadata": {
            "tags": null
          },
          "name": "stdout",
          "output_type": "stream",
          "text": [
            "\n",
            "TP 2527592\n",
            "TN 2518169\n",
            "FP 404212\n",
            "FN 1227989\n",
            "\n",
            "33000\n"
          ]
        },
        {
          "metadata": {
            "tags": null
          },
          "name": "stderr",
          "output_type": "stream",
          "text": [
            "6677980it [08:19, 13369.42it/s]\n"
          ]
        },
        {
          "metadata": {
            "tags": null
          },
          "name": "stdout",
          "output_type": "stream",
          "text": [
            "\n",
            "TP 2557446\n",
            "TN 2503373\n",
            "FP 419008\n",
            "FN 1198135\n",
            "\n",
            "34000\n"
          ]
        },
        {
          "metadata": {
            "tags": null
          },
          "name": "stderr",
          "output_type": "stream",
          "text": [
            "6677980it [08:29, 13113.63it/s]\n"
          ]
        },
        {
          "metadata": {
            "tags": null
          },
          "name": "stdout",
          "output_type": "stream",
          "text": [
            "\n",
            "TP 2586469\n",
            "TN 2488612\n",
            "FP 433769\n",
            "FN 1169112\n",
            "\n",
            "35000\n"
          ]
        },
        {
          "metadata": {
            "tags": null
          },
          "name": "stderr",
          "output_type": "stream",
          "text": [
            "6677980it [08:20, 13338.28it/s]\n"
          ]
        },
        {
          "metadata": {
            "tags": null
          },
          "name": "stdout",
          "output_type": "stream",
          "text": [
            "\n",
            "TP 2614523\n",
            "TN 2474102\n",
            "FP 448279\n",
            "FN 1141058\n",
            "\n",
            "36000\n"
          ]
        },
        {
          "metadata": {
            "tags": null
          },
          "name": "stderr",
          "output_type": "stream",
          "text": [
            "6677980it [08:21, 13326.92it/s]\n"
          ]
        },
        {
          "metadata": {
            "tags": null
          },
          "name": "stdout",
          "output_type": "stream",
          "text": [
            "\n",
            "TP 2641082\n",
            "TN 2459650\n",
            "FP 462731\n",
            "FN 1114499\n",
            "\n",
            "37000\n"
          ]
        },
        {
          "metadata": {
            "tags": null
          },
          "name": "stderr",
          "output_type": "stream",
          "text": [
            "6677980it [08:27, 13159.32it/s]\n"
          ]
        },
        {
          "metadata": {
            "tags": null
          },
          "name": "stdout",
          "output_type": "stream",
          "text": [
            "\n",
            "TP 2666403\n",
            "TN 2445086\n",
            "FP 477295\n",
            "FN 1089178\n",
            "\n",
            "38000\n"
          ]
        },
        {
          "metadata": {
            "tags": null
          },
          "name": "stderr",
          "output_type": "stream",
          "text": [
            "6677980it [08:17, 13411.16it/s]\n"
          ]
        },
        {
          "metadata": {
            "tags": null
          },
          "name": "stdout",
          "output_type": "stream",
          "text": [
            "\n",
            "TP 2690985\n",
            "TN 2430728\n",
            "FP 491653\n",
            "FN 1064596\n",
            "\n",
            "39000\n"
          ]
        },
        {
          "metadata": {
            "tags": null
          },
          "name": "stderr",
          "output_type": "stream",
          "text": [
            "6677980it [08:22, 13293.73it/s]\n"
          ]
        },
        {
          "metadata": {
            "tags": null
          },
          "name": "stdout",
          "output_type": "stream",
          "text": [
            "\n",
            "TP 2714975\n",
            "TN 2416257\n",
            "FP 506124\n",
            "FN 1040606\n",
            "\n",
            "40000\n"
          ]
        },
        {
          "output_type": "stream",
          "name": "stderr",
          "text": [
            "6677980it [08:18, 13383.54it/s]\n"
          ]
        },
        {
          "output_type": "stream",
          "name": "stdout",
          "text": [
            "\n",
            "TP 2737776\n",
            "TN 2401869\n",
            "FP 520512\n",
            "FN 1017805\n"
          ]
        }
      ]
    },
    {
      "cell_type": "code",
      "execution_count": null,
      "metadata": {
        "id": "u8IIqcSQuAf2"
      },
      "outputs": [],
      "source": []
    }
  ]
}